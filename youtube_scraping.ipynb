{
 "cells": [
  {
   "cell_type": "markdown",
   "id": "08e46a1a-55e0-47b6-b479-20c5ef3286c1",
   "metadata": {},
   "source": [
    "## Installing required libraries and Dependencies"
   ]
  },
  {
   "cell_type": "code",
   "execution_count": 133,
   "id": "70958cee-e948-479c-80c6-5b13e63bbedf",
   "metadata": {
    "scrolled": true
   },
   "outputs": [
    {
     "name": "stdout",
     "output_type": "stream",
     "text": [
      "Requirement already satisfied: selenium in /opt/anaconda3/lib/python3.12/site-packages (4.29.0)\n",
      "Requirement already satisfied: xlsxwriter in /opt/anaconda3/lib/python3.12/site-packages (3.2.2)\n",
      "Requirement already satisfied: pandas in /opt/anaconda3/lib/python3.12/site-packages (2.2.2)\n",
      "Requirement already satisfied: openpyxl in /opt/anaconda3/lib/python3.12/site-packages (3.1.5)\n",
      "Requirement already satisfied: urllib3<3,>=1.26 in /opt/anaconda3/lib/python3.12/site-packages (from urllib3[socks]<3,>=1.26->selenium) (2.2.3)\n",
      "Requirement already satisfied: trio~=0.17 in /opt/anaconda3/lib/python3.12/site-packages (from selenium) (0.29.0)\n",
      "Requirement already satisfied: trio-websocket~=0.9 in /opt/anaconda3/lib/python3.12/site-packages (from selenium) (0.12.1)\n",
      "Requirement already satisfied: certifi>=2021.10.8 in /opt/anaconda3/lib/python3.12/site-packages (from selenium) (2025.1.31)\n",
      "Requirement already satisfied: typing_extensions~=4.9 in /opt/anaconda3/lib/python3.12/site-packages (from selenium) (4.11.0)\n",
      "Requirement already satisfied: websocket-client~=1.8 in /opt/anaconda3/lib/python3.12/site-packages (from selenium) (1.8.0)\n",
      "Requirement already satisfied: numpy>=1.26.0 in /opt/anaconda3/lib/python3.12/site-packages (from pandas) (1.26.4)\n",
      "Requirement already satisfied: python-dateutil>=2.8.2 in /opt/anaconda3/lib/python3.12/site-packages (from pandas) (2.9.0.post0)\n",
      "Requirement already satisfied: pytz>=2020.1 in /opt/anaconda3/lib/python3.12/site-packages (from pandas) (2024.1)\n",
      "Requirement already satisfied: tzdata>=2022.7 in /opt/anaconda3/lib/python3.12/site-packages (from pandas) (2023.3)\n",
      "Requirement already satisfied: et-xmlfile in /opt/anaconda3/lib/python3.12/site-packages (from openpyxl) (1.1.0)\n",
      "Requirement already satisfied: six>=1.5 in /opt/anaconda3/lib/python3.12/site-packages (from python-dateutil>=2.8.2->pandas) (1.16.0)\n",
      "Requirement already satisfied: attrs>=23.2.0 in /opt/anaconda3/lib/python3.12/site-packages (from trio~=0.17->selenium) (25.1.0)\n",
      "Requirement already satisfied: sortedcontainers in /opt/anaconda3/lib/python3.12/site-packages (from trio~=0.17->selenium) (2.4.0)\n",
      "Requirement already satisfied: idna in /opt/anaconda3/lib/python3.12/site-packages (from trio~=0.17->selenium) (3.7)\n",
      "Requirement already satisfied: outcome in /opt/anaconda3/lib/python3.12/site-packages (from trio~=0.17->selenium) (1.3.0.post0)\n",
      "Requirement already satisfied: sniffio>=1.3.0 in /opt/anaconda3/lib/python3.12/site-packages (from trio~=0.17->selenium) (1.3.0)\n",
      "Requirement already satisfied: wsproto>=0.14 in /opt/anaconda3/lib/python3.12/site-packages (from trio-websocket~=0.9->selenium) (1.2.0)\n",
      "Requirement already satisfied: pysocks!=1.5.7,<2.0,>=1.5.6 in /opt/anaconda3/lib/python3.12/site-packages (from urllib3[socks]<3,>=1.26->selenium) (1.7.1)\n",
      "Requirement already satisfied: h11<1,>=0.9.0 in /opt/anaconda3/lib/python3.12/site-packages (from wsproto>=0.14->trio-websocket~=0.9->selenium) (0.14.0)\n"
     ]
    }
   ],
   "source": [
    "!pip install selenium xlsxwriter pandas openpyxl"
   ]
  },
  {
   "cell_type": "code",
   "execution_count": 134,
   "id": "7adf7e1a-c589-4ad2-a810-0c5434e42c3c",
   "metadata": {},
   "outputs": [],
   "source": [
    "import time \n",
    "from selenium import webdriver # for webscraping\n",
    "from bs4 import BeautifulSoup  # for webscraping\n",
    "import xlsxwriter # for converting into excel file "
   ]
  },
  {
   "cell_type": "code",
   "execution_count": 135,
   "id": "d31cf0d0-c599-4c17-bc3f-1d52d01bf833",
   "metadata": {},
   "outputs": [],
   "source": [
    "url = 'https://www.youtube.com/@krishnaik06'"
   ]
  },
  {
   "cell_type": "code",
   "execution_count": null,
   "id": "79dcbc1a-077d-4205-b351-3481fbf97f34",
   "metadata": {},
   "outputs": [],
   "source": [
    "times = 0\n",
    "driver = webdriver.Chrome()\n",
    "\n",
    "driver.get(f\"{url}/videos?view=0&sort=p&flow=grid\")\n",
    "while times<5:\n",
    "    time.sleep(2)\n",
    "    driver.execute_script(\"window.scrollTo(0, document.documentElement.scrollHeight);\")\n",
    "    times +=1\n",
    "content = driver.page_source.encode('UTF-8').strip()\n",
    "soup = BeautifulSoup(content,'html.parser')\n",
    "# soup.prettify()\n",
    "# from selenium import webdriver\n",
    "# from selenium.webdriver.chrome.service import Service\n",
    "# from selenium.webdriver.common.by import By\n",
    "# from selenium.webdriver.common.keys import Keys\n",
    "# import time\n",
    "\n",
    "# # Initialize WebDriver\n",
    "# driver = webdriver.Chrome()\n",
    "\n",
    "# for url in urls:\n",
    "#     driver.get(f\"{url}/videos?view=0&sort=p&flow=grid\")\n",
    "    \n",
    "#     last_height = driver.execute_script(\"return document.documentElement.scrollHeight\")\n",
    "    \n",
    "#     while True:\n",
    "#         driver.execute_script(\"window.scrollTo(0, document.documentElement.scrollHeight);\")\n",
    "#         time.sleep(2)  # Give time for new content to load\n",
    "        \n",
    "#         new_height = driver.execute_script(\"return document.documentElement.scrollHeight\")\n",
    "#         if new_height == last_height:  # Stop when no new content is loaded\n",
    "#             break\n",
    "#         last_height = new_height\n",
    "\n",
    "#     content = driver.page_source.encode('utf-8').strip()\n",
    "#     soup = BeautifulSoup(content, 'html.parser')\n",
    "\n",
    "# soup.prettify()\n"
   ]
  },
  {
   "cell_type": "code",
   "execution_count": null,
   "id": "de29eb1e-d4f1-41be-a165-83f0bb444d9b",
   "metadata": {},
   "outputs": [],
   "source": [
    "t = soup.findAll('a',id=\"video-title-link\") \n",
    "titles =[] \n",
    "for i in t: \n",
    "    titles.append(i.text) \n",
    "titles"
   ]
  },
  {
   "cell_type": "code",
   "execution_count": null,
   "id": "8f1e7185-196d-4485-8c39-b056720b1c0f",
   "metadata": {},
   "outputs": [],
   "source": [
    "# temp=[]\n",
    "# for string in t:\n",
    "#     string = string.replace('\\n','')\n",
    "#     temp.append(string)"
   ]
  },
  {
   "cell_type": "code",
   "execution_count": null,
   "id": "62834bb3-9b47-4840-8189-d8d141b68082",
   "metadata": {},
   "outputs": [],
   "source": [
    "# for link in soup.find_all('a'):\n",
    "#     print(link.get('title'))"
   ]
  },
  {
   "cell_type": "code",
   "execution_count": null,
   "id": "01304e4e-013b-4d8c-8128-7f4680e7da2a",
   "metadata": {},
   "outputs": [],
   "source": [
    "# string = '\\n\\nGeek for Geek'\n"
   ]
  },
  {
   "cell_type": "code",
   "execution_count": null,
   "id": "8171c9a4-5d7d-47ad-8f05-b06c0e3e7518",
   "metadata": {},
   "outputs": [],
   "source": [
    "# string=string.replace('\\n','')"
   ]
  },
  {
   "cell_type": "code",
   "execution_count": null,
   "id": "9c4e68b2-72bc-4e7f-9167-95d6946de13e",
   "metadata": {},
   "outputs": [],
   "source": [
    "# string\n"
   ]
  },
  {
   "cell_type": "code",
   "execution_count": null,
   "id": "0aaa0700-ccdb-4c2f-b258-720e6d401d27",
   "metadata": {},
   "outputs": [],
   "source": [
    "\n",
    "# temp = [x for x in temp if x.strip()]\n",
    "# temp"
   ]
  },
  {
   "cell_type": "code",
   "execution_count": null,
   "id": "1cb050af-cd14-4272-ac20-cd739f9d29f8",
   "metadata": {},
   "outputs": [],
   "source": [
    "# Views \n",
    "v = soup.find_all('span',class_='style-scope ytd-grid-video-renderer')\n",
    "v"
   ]
  },
  {
   "cell_type": "code",
   "execution_count": null,
   "id": "d4bc44a1-d19e-4e33-9da8-9efe614a7c6d",
   "metadata": {},
   "outputs": [],
   "source": [
    "d = soup.find_all('span', class_ = 'style-scope ytd-thumbnail-overlay-time-status-renderer')\n",
    "durations = []\n",
    "for i in d:\n",
    "    durations.append(i.text.strip())\n",
    "durations"
   ]
  },
  {
   "cell_type": "code",
   "execution_count": null,
   "id": "e40498fc-f0a9-4cd5-88ef-6fe9179e2ef4",
   "metadata": {},
   "outputs": [],
   "source": [
    "v = soup.find_all('a',id = 'video-title-link')\n",
    "views=[]\n",
    "for link in v:\n",
    "    view = link.get('aria-label')\n",
    "    vlist=view.split(' ')\n",
    "    views.append(vlist[vlist.index('views')-1])\n",
    "# view = v.get('aria-label')\n",
    "# vlist=view.split(' ')\n",
    "# print(vlist)\n",
    "# views = vlist[vlist.index('views')-1]\n",
    "# views\n",
    "views\n"
   ]
  },
  {
   "cell_type": "code",
   "execution_count": null,
   "id": "2d5eaef6-68b8-467f-bb6a-be632f26209d",
   "metadata": {},
   "outputs": [],
   "source": [
    "workbook = xlsxwriter.Workbook('file.xlsx')\n",
    "worksheet = workbook.add_worksheet()\n",
    "\n",
    "worksheet.write(0,0,'Title')\n",
    "worksheet.write(0,1,'Views')\n",
    "worksheet.write(0,2,'Duration')\n",
    "row = 1\n",
    "for title,view,duration in zip(titles,views,durations):\n",
    "    worksheet.write(row,0,title)\n",
    "    worksheet.write(row,1,view)\n",
    "    worksheet.write(row,2,duration)\n",
    "    row += 1\n",
    "workbook.close()"
   ]
  },
  {
   "cell_type": "code",
   "execution_count": null,
   "id": "af20ec86-d427-4009-9eb5-61e72c44db65",
   "metadata": {},
   "outputs": [],
   "source": [
    "#Data PreProcessing\n"
   ]
  },
  {
   "cell_type": "code",
   "execution_count": null,
   "id": "5bef9b16-ad51-4ef5-b53c-29d93fbe592a",
   "metadata": {},
   "outputs": [],
   "source": [
    "#!pip install pandas openpyxl"
   ]
  },
  {
   "cell_type": "code",
   "execution_count": null,
   "id": "8b16784f-e93f-4e60-9fec-cc042cb3a3d4",
   "metadata": {},
   "outputs": [],
   "source": [
    "import pandas as pd\n",
    "import openpyxl\n",
    "df = pd.read_excel('file.xlsx')"
   ]
  },
  {
   "cell_type": "code",
   "execution_count": null,
   "id": "14595c38-579d-49ca-94c7-963fc03c41ad",
   "metadata": {},
   "outputs": [],
   "source": [
    "df.head(15)"
   ]
  },
  {
   "cell_type": "code",
   "execution_count": null,
   "id": "483bf467-6539-4559-aa59-64e2cd9f5417",
   "metadata": {},
   "outputs": [],
   "source": [
    "df['Views']=df['Views'].str.replace(',','').str.strip()\n",
    "df['Views']=df['Views'].astype(float)\n",
    "df['Views']"
   ]
  },
  {
   "cell_type": "code",
   "execution_count": null,
   "id": "a50cc47e-d05c-4f45-b50c-b88f68cd609f",
   "metadata": {},
   "outputs": [],
   "source": [
    "df['Views'].map(type)"
   ]
  },
  {
   "cell_type": "code",
   "execution_count": null,
   "id": "30626930-c8c4-4fc8-92e3-a14310bc6837",
   "metadata": {},
   "outputs": [],
   "source": [
    "df.info()"
   ]
  },
  {
   "cell_type": "code",
   "execution_count": null,
   "id": "70d0f0eb-5c2c-4c37-b341-8c497d194f75",
   "metadata": {},
   "outputs": [],
   "source": [
    "df.dtypes"
   ]
  },
  {
   "cell_type": "code",
   "execution_count": null,
   "id": "7156aa28-9410-4523-a442-97853a86e612",
   "metadata": {},
   "outputs": [],
   "source": [
    "# Duration categories: mini-videos, long-videos,very-long videos \n",
    "# converting values into secs\n",
    "Duration_secs=[]\n",
    "for i in df['Duration']:\n",
    "    tim = list(map(int, i.split(':'))) \n",
    "    if(len(tim)==1):\n",
    "        pass\n",
    "    elif(len(tim)==2):\n",
    "        tim = tim[0]*60 + tim[1]\n",
    "    elif(len(tim)==3):\n",
    "        tim = tim[0]*3600 + tim[1]*60 + tim[2]\n",
    "    Duration_secs.append(tim)\n",
    "df['Duration'] = Duration_secs"
   ]
  },
  {
   "cell_type": "code",
   "execution_count": null,
   "id": "d8ab6c1e-4eab-439d-afe0-248cb1961dfb",
   "metadata": {},
   "outputs": [],
   "source": [
    "df"
   ]
  },
  {
   "cell_type": "code",
   "execution_count": null,
   "id": "9046c9d2-8a82-4b6b-bfe8-c827ac7c1d5e",
   "metadata": {},
   "outputs": [],
   "source": [
    "# categorize\n",
    "val_series = df['Duration']\n",
    "df['Duration'] = df['Duration'].astype(str)\n",
    "\n",
    "for i in val_series.index:\n",
    "    val = val_series.iloc[i]\n",
    "    \n",
    "    if(val in range(0,900)):\n",
    "        df.loc[i,'Duration'] = 'Mini-Videos'\n",
    "    elif(val in range(900,3600)):\n",
    "        df.loc[i,'Duration'] = 'Long-Videos'\n",
    "    else:\n",
    "        df.loc[i,'Duration'] = 'Very-Long-Videos'\n",
    "    "
   ]
  },
  {
   "cell_type": "code",
   "execution_count": null,
   "id": "839b899b-a81f-4d0f-926e-7f9c435f20a6",
   "metadata": {},
   "outputs": [],
   "source": [
    "# df.loc[0,'Duration']\n",
    "# df['Duration'].iloc[i] both are same\n",
    "range(10)"
   ]
  },
  {
   "cell_type": "code",
   "execution_count": null,
   "id": "94ede58f-eebe-4f72-969b-c0689982b634",
   "metadata": {},
   "outputs": [],
   "source": [
    "df"
   ]
  },
  {
   "cell_type": "code",
   "execution_count": null,
   "id": "6bbf5b28-2d45-402b-a0f5-b6110c892dab",
   "metadata": {},
   "outputs": [],
   "source": [
    "import re \n",
    "from tqdm import tqdm\n",
    "import nltk\n",
    "from nltk.corpus import stopwords\n",
    "from nltk.tokenize import word_tokenize\n",
    "from nltk.stem.porter import PorterStemmer"
   ]
  },
  {
   "cell_type": "code",
   "execution_count": null,
   "id": "e61ff065-a2c0-4a17-aedf-94436af831a8",
   "metadata": {},
   "outputs": [],
   "source": [
    "def preprocess_data(text_data):\n",
    "    preprocessed_text = []\n",
    "    stop_words = set(stopwords.words(\"english\"))  # Converted to set() for faster lookup (checking membership in a set is much faster than a list).\n",
    "\n",
    "    for sentence in tqdm(text_data, desc=\"Processing Text\"):  # desc=\"Processing Text\": Adds a label to the progress bar, making it clear what is being processed.\n",
    "        sentence = re.sub(r\"[^\\w\\s]\", \"\", sentence)  # Remove punctuation,special characters\n",
    "        filtered_words = [token.lower() for token in sentence.split() if token.lower() not in stop_words]\n",
    "        preprocessed_text.append(\" \".join(filtered_words))\n",
    "    \n",
    "    return preprocessed_text\n",
    "\n",
    "preprocessed_review = preprocess_data(df['Title'].values)\n",
    "df['Title'] = preprocessed_review\n"
   ]
  },
  {
   "cell_type": "code",
   "execution_count": null,
   "id": "bf02b136-4c35-4e1f-b7d5-cdacec43826e",
   "metadata": {},
   "outputs": [],
   "source": [
    "df['Title']"
   ]
  },
  {
   "cell_type": "code",
   "execution_count": null,
   "id": "3cb542b3-d9d5-4026-9ba3-5b5087eb7ae2",
   "metadata": {},
   "outputs": [],
   "source": [
    "#!conda install -c conda-forge wordcloud -y\n",
    "from wordcloud import WordCloud\n",
    "import matplotlib.pyplot as plt\n",
    "import seaborn as sns\n",
    "%matplotlib inline"
   ]
  },
  {
   "cell_type": "code",
   "execution_count": null,
   "id": "0e05796f-097f-4087-ac5c-b1021170a3e8",
   "metadata": {},
   "outputs": [],
   "source": [
    "consolidated = ' '.join([word for word in df['Title'].astype(str)])\n",
    "wordCloud = WordCloud(width=1600, height=800, random_state=21, \n",
    "                      max_font_size=110, collocations=False) \n",
    "\n",
    "plt.figure(figsize=(15, 10)) \n",
    "plt.imshow(wordCloud.generate(consolidated), interpolation='bilinear') \n",
    "plt.axis('off')\n",
    "plt.show() "
   ]
  },
  {
   "cell_type": "code",
   "execution_count": null,
   "id": "46946db9-9684-455a-87f1-e558b54a2e6f",
   "metadata": {},
   "outputs": [],
   "source": [
    "plt.figure(figsize = (5,5))\n",
    "sns.countplot(data = df, x = \"Duration\", hue = \"Duration\", palette = sns.color_palette(\"hls\", 3), legend = False)\n",
    "plt.title(\"Number of videos of each category\")\n",
    "plt.xlabel(\"Duration-wise Category\")\n",
    "plt.ylabel(\"Count\")\n",
    "plt.show()"
   ]
  },
  {
   "cell_type": "code",
   "execution_count": null,
   "id": "5f992b15-d18d-418b-96aa-bbf5a3f1264e",
   "metadata": {},
   "outputs": [],
   "source": []
  }
 ],
 "metadata": {
  "kernelspec": {
   "display_name": "Python 3 (ipykernel)",
   "language": "python",
   "name": "python3"
  },
  "language_info": {
   "codemirror_mode": {
    "name": "ipython",
    "version": 3
   },
   "file_extension": ".py",
   "mimetype": "text/x-python",
   "name": "python",
   "nbconvert_exporter": "python",
   "pygments_lexer": "ipython3",
   "version": "3.12.2"
  }
 },
 "nbformat": 4,
 "nbformat_minor": 5
}
